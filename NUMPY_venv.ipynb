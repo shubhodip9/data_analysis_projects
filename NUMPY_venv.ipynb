{
 "cells": [
  {
   "cell_type": "code",
   "execution_count": 1,
   "id": "a5c8dade-cd28-40cb-aa6c-72b6cb2eb2a6",
   "metadata": {},
   "outputs": [
    {
     "name": "stdout",
     "output_type": "stream",
     "text": [
      "1.24.3\n"
     ]
    }
   ],
   "source": [
    "import numpy as np\n",
    "print(np.__version__)"
   ]
  },
  {
   "cell_type": "markdown",
   "id": "35720b9c-c8e8-483c-a534-70a3089952bb",
   "metadata": {},
   "source": [
    "# NumPy\n",
    "- Numerical Python\n",
    "- Arrays and Matrices"
   ]
  },
  {
   "cell_type": "markdown",
   "id": "219f1a3e-10f7-4a94-a604-1678e4841472",
   "metadata": {},
   "source": [
    "## Table of Contents\n",
    "- **1** NumPy Operations\n",
    "- **2** arange()\n",
    "- **3** Attributes of NumPy arrays\n",
    "- **4** NumPy Vectorized Operations\n",
    "- **5** Universal Functions\n",
    "- **6** Array Slicing and Indexing\n",
    "- **7** Statistical Concepts \n",
    "- **8** Logical Operations\n",
    "- **9** Finding the Jupyter Notebook Path"
   ]
  },
  {
   "cell_type": "markdown",
   "id": "37613f70-e4ee-484b-aadb-b1a51058ddf3",
   "metadata": {},
   "source": [
    "## NumPy Operations\n",
    "- Make an array\n",
    "- Type of the array\n",
    "- Shape of the array\n",
    "- Reshape the array\n",
    "- Create a 1-D array\n",
    "- Create a 2-D array\n",
    "- arange(x, y, z)\n",
    "- Create a matrix of 1s : np.ones(a, b)\n",
    "- Create an Identity matrix : np.eye(3)"
   ]
  },
  {
   "cell_type": "code",
   "execution_count": 4,
   "id": "078292c6-b6f8-4f47-89f7-9327ac9c05c1",
   "metadata": {},
   "outputs": [
    {
     "name": "stdout",
     "output_type": "stream",
     "text": [
      "[1 2 3 4 5]\n",
      "<class 'numpy.ndarray'>\n",
      "(5,)\n",
      "[[1 2 3 4 5]]\n"
     ]
    },
    {
     "data": {
      "text/plain": [
       "(1, 5)"
      ]
     },
     "execution_count": 4,
     "metadata": {},
     "output_type": "execute_result"
    }
   ],
   "source": [
    "arr1 = np.array([1,2,3,4,5])\n",
    "print(arr1)\n",
    "print(type(arr1)) #type\n",
    "print(arr1.shape) #shape of array #(5,) - 1D array - 5 columns\n",
    "\n",
    "arr2 = np.array([1,2,3,4,5])\n",
    "arr2.reshape(1,5) #1 row 5 columns\n",
    "\n",
    "#1-D array\n",
    "arr2 = np.array([[1,2,3,4,5]]) \n",
    "print(arr2)\n",
    "arr2.shape"
   ]
  },
  {
   "cell_type": "code",
   "execution_count": 5,
   "id": "dbd74d1b-da0a-4a8e-8b72-d56ae681a199",
   "metadata": {},
   "outputs": [
    {
     "name": "stdout",
     "output_type": "stream",
     "text": [
      "[[1 2 3 4 5]\n",
      " [2 3 4 5 6]]\n",
      "(2, 5)\n"
     ]
    }
   ],
   "source": [
    "#2-D array\n",
    "arr2 = np.array([[1,2,3,4,5],[2,3,4,5,6]])\n",
    "print(arr2)\n",
    "print(arr2.shape)"
   ]
  },
  {
   "cell_type": "markdown",
   "id": "5530c4c2-6929-469b-931d-7010d78f1ece",
   "metadata": {},
   "source": [
    "## np.arange(x, y, z) - Start, Stop, Step\n",
    "- (x) = Start\n",
    "- (y - 1) = Stop\n",
    "- (z) = Interval between elements"
   ]
  },
  {
   "cell_type": "code",
   "execution_count": 6,
   "id": "f5426ab0-bb11-48f7-a834-ffd75b4af35c",
   "metadata": {},
   "outputs": [
    {
     "data": {
      "text/plain": [
       "array([0, 1, 2, 3, 4, 5, 6, 7, 8, 9])"
      ]
     },
     "execution_count": 6,
     "metadata": {},
     "output_type": "execute_result"
    }
   ],
   "source": [
    "np.arange(0,10,1)"
   ]
  },
  {
   "cell_type": "code",
   "execution_count": 7,
   "id": "81e1c01d-ffed-4441-adf6-cb629fc45a3e",
   "metadata": {},
   "outputs": [
    {
     "data": {
      "text/plain": [
       "array([0, 2, 4, 6, 8])"
      ]
     },
     "execution_count": 7,
     "metadata": {},
     "output_type": "execute_result"
    }
   ],
   "source": [
    "np.arange(0,10,2)"
   ]
  },
  {
   "cell_type": "code",
   "execution_count": 8,
   "id": "69ef6ce4-dd0e-45ca-8024-b32a585e9300",
   "metadata": {},
   "outputs": [
    {
     "data": {
      "text/plain": [
       "array([[0],\n",
       "       [2],\n",
       "       [4],\n",
       "       [6],\n",
       "       [8]])"
      ]
     },
     "execution_count": 8,
     "metadata": {},
     "output_type": "execute_result"
    }
   ],
   "source": [
    "# Reshaping into 5 Rows and 1 Column - 1d array to 2d array\n",
    "\n",
    "np.arange(0,10,2).reshape(5,1)"
   ]
  },
  {
   "cell_type": "code",
   "execution_count": 9,
   "id": "cdc5755f-c339-473a-bec9-2980cea7dc6e",
   "metadata": {},
   "outputs": [
    {
     "data": {
      "text/plain": [
       "array([[1., 1., 1.],\n",
       "       [1., 1., 1.]])"
      ]
     },
     "execution_count": 9,
     "metadata": {},
     "output_type": "execute_result"
    }
   ],
   "source": [
    "# Making a matrix of 1s\n",
    "\n",
    "np.ones((2,3))"
   ]
  },
  {
   "cell_type": "code",
   "execution_count": 10,
   "id": "c9b4869b-cec1-49a9-89c8-89e244aa418a",
   "metadata": {},
   "outputs": [
    {
     "data": {
      "text/plain": [
       "array([[1., 0., 0., 0.],\n",
       "       [0., 1., 0., 0.],\n",
       "       [0., 0., 1., 0.],\n",
       "       [0., 0., 0., 1.]])"
      ]
     },
     "execution_count": 10,
     "metadata": {},
     "output_type": "execute_result"
    }
   ],
   "source": [
    "# Making an Identity Matrix - always a Square Matrix\n",
    "\n",
    "np.eye(4)"
   ]
  },
  {
   "cell_type": "markdown",
   "id": "d0c65cba-cfaf-43c3-a756-ee87befe247d",
   "metadata": {},
   "source": [
    "## Some other NumPy functions - Attributes of NumPy arrays"
   ]
  },
  {
   "cell_type": "code",
   "execution_count": 11,
   "id": "4d466bab-e792-4199-a5fe-11780a03a04d",
   "metadata": {},
   "outputs": [
    {
     "name": "stdout",
     "output_type": "stream",
     "text": [
      "Array:\n",
      " [[1 2 3]\n",
      " [4 5 6]\n",
      " [7 8 9]]\n",
      "Shape:  (3, 3)\n",
      "Number of dimensions:  2\n",
      "Size (Number of elements):  9\n",
      "Data type:  int32\n",
      "Item Size (in bytes):  4\n",
      "Total memory used (bytes):  36\n"
     ]
    }
   ],
   "source": [
    "arr = np.array([[1, 2, 3], [4, 5, 6], [7, 8, 9]])\n",
    "\n",
    "print(\"Array:\\n\", arr)\n",
    "print(\"Shape: \", arr.shape)\n",
    "print(\"Number of dimensions: \", arr.ndim)\n",
    "print(\"Size (Number of elements): \", arr.size) \n",
    "print(\"Data type: \", arr.dtype)                  # int64 for this system\n",
    "print(\"Item Size (in bytes): \", arr.itemsize)    # each element is 8 bytes\n",
    "print(\"Total memory used (bytes): \", arr.nbytes) # 9 * 8bytes = 72bytes"
   ]
  },
  {
   "cell_type": "markdown",
   "id": "411a2ea0-d285-4c53-aeed-934911c76a05",
   "metadata": {},
   "source": [
    "## NumPy Vectorized Operations\n",
    "- Element-wise (same indices) Addition, Subtraction\n",
    "- Element-wise (same indices) Multiplication (not Matrix Multiplication)\n",
    "- Element-wise (same indices) Division\n",
    "- Outputs in the form of Arrays"
   ]
  },
  {
   "cell_type": "code",
   "execution_count": 12,
   "id": "f08b1be9-fd16-4ae6-ada6-6fabe9453920",
   "metadata": {},
   "outputs": [
    {
     "name": "stdout",
     "output_type": "stream",
     "text": [
      "Addition:  [11 22 33 44 55]\n",
      "Subtraction:  [ -9 -18 -27 -36 -45]\n",
      "Multiplication:  [ 10  40  90 160 250]\n",
      "Division:  [0.1 0.1 0.1 0.1 0.1]\n"
     ]
    }
   ],
   "source": [
    "arr1 = np.array([1, 2, 3, 4, 5])\n",
    "arr2 = np.array([10, 20, 30, 40, 50])\n",
    "\n",
    "# All return types will also be arrays\n",
    "\n",
    "# Element wise addition - same index elements\n",
    "print(\"Addition: \", arr1 + arr2)\n",
    "\n",
    "# Element wise subtraction - same index elements\n",
    "print(\"Subtraction: \", arr1 - arr2)\n",
    "\n",
    "# Element wise multiplication - same indices - not matrix multiplication\n",
    "print(\"Multiplication: \", arr1 * arr2)\n",
    "\n",
    "# Element wise division - same indices\n",
    "print(\"Division: \", arr1 / arr2)"
   ]
  },
  {
   "cell_type": "markdown",
   "id": "3638c5e3-8c51-4cae-b349-134646f8cb70",
   "metadata": {},
   "source": [
    "## Universal Functions\n",
    "- Square Root\n",
    "- Exponential\n",
    "- Sine\n",
    "- Natural Log\n",
    "- Outputs in the form of Arrays"
   ]
  },
  {
   "cell_type": "code",
   "execution_count": 14,
   "id": "42fcc961-28c6-4e6b-b3b6-7c8c42a93b34",
   "metadata": {},
   "outputs": [
    {
     "name": "stdout",
     "output_type": "stream",
     "text": [
      "[1.41421356 1.73205081 2.         2.23606798 2.44948974]\n",
      "[  7.3890561   20.08553692  54.59815003 148.4131591  403.42879349]\n",
      "[ 0.90929743  0.14112001 -0.7568025  -0.95892427 -0.2794155 ]\n",
      "[0.69314718 1.09861229 1.38629436 1.60943791 1.79175947]\n"
     ]
    }
   ],
   "source": [
    "arr = np.array([2, 3, 4, 5, 6])\n",
    "\n",
    "# All element wise - return an Array as Output\n",
    "\n",
    "# Square Root\n",
    "print(np.sqrt(arr))\n",
    "\n",
    "# Exponential\n",
    "print(np.exp(arr))\n",
    "\n",
    "# Sine\n",
    "print(np.sin(arr))\n",
    "\n",
    "# Natural Log\n",
    "print(np.log(arr))"
   ]
  },
  {
   "cell_type": "markdown",
   "id": "6a3b6787-0c58-4966-a721-379ac41e3fec",
   "metadata": {},
   "source": [
    "## Array Slicing and Indexing\n",
    "- Row Index\n",
    "- Row and Column Index\n",
    "- arr[a:] = Picks from the (a+1)th row till the last row\n",
    "- arr[:a] = Picks from the 1st row (0+1 th) till (a)th row \n",
    "- arr[: , :b] Picks from the 1st column (0+1 th) till the (b)th column\n",
    "- arr[: , b:] = Picks from the (b+1)th column till the last column\n",
    "- arr[1: , 2:] = Picks from the 2nd row till the end and from the 3rd column till the end\n",
    "- arr[0:2 , 2:0] or arr[:2 , 2:] = Picks from the 1st row till the 2nd row and the 1st column till the 2nd column\n",
    "- Modify array elements through indices or through rows and columns with the same principle as above"
   ]
  },
  {
   "cell_type": "code",
   "execution_count": 15,
   "id": "5e3c1ce1-6703-4f7a-9205-a91dafca3889",
   "metadata": {},
   "outputs": [
    {
     "name": "stdout",
     "output_type": "stream",
     "text": [
      "Array : \n",
      " [[ 1  2  3  4]\n",
      " [ 5  6  7  8]\n",
      " [ 9 10 11 12]]\n"
     ]
    }
   ],
   "source": [
    "arr = np.array([[1, 2, 3, 4], [5,6, 7, 8], [9, 10, 11, 12]])\n",
    "print(\"Array : \\n\", arr)"
   ]
  },
  {
   "cell_type": "code",
   "execution_count": 16,
   "id": "806f5154-e7b7-4ea5-bf7d-9109cc703323",
   "metadata": {},
   "outputs": [
    {
     "name": "stdout",
     "output_type": "stream",
     "text": [
      "[1 2 3 4]\n"
     ]
    }
   ],
   "source": [
    "# Row index\n",
    "\n",
    "print(arr[0])"
   ]
  },
  {
   "cell_type": "code",
   "execution_count": 17,
   "id": "09059aea-afc7-46b4-bd18-04ed0f13d138",
   "metadata": {},
   "outputs": [
    {
     "name": "stdout",
     "output_type": "stream",
     "text": [
      "1\n"
     ]
    }
   ],
   "source": [
    "# Row and Column Index\n",
    "\n",
    "print(arr[0][0])"
   ]
  },
  {
   "cell_type": "code",
   "execution_count": 18,
   "id": "463e8ae5-1cda-4428-af0f-99e193a92109",
   "metadata": {},
   "outputs": [
    {
     "name": "stdout",
     "output_type": "stream",
     "text": [
      "[[ 5  6  7  8]\n",
      " [ 9 10 11 12]]\n",
      "[[ 9 10 11 12]]\n"
     ]
    }
   ],
   "source": [
    "# Picks the last 2 rows - arr[a:] - accessess from after the 'a'th row\n",
    "print(arr[1:])\n",
    "\n",
    "# Picks the last row\n",
    "print(arr[2:])"
   ]
  },
  {
   "cell_type": "code",
   "execution_count": 19,
   "id": "358fa220-a560-4a68-ab35-67c4bdb22f48",
   "metadata": {},
   "outputs": [
    {
     "name": "stdout",
     "output_type": "stream",
     "text": [
      "[[ 3  4]\n",
      " [ 7  8]\n",
      " [11 12]]\n"
     ]
    }
   ],
   "source": [
    "# Picks thr last 2 columns - arr[:,b:] - accesses from after the 'b'th column\n",
    "print(arr[:,2:])"
   ]
  },
  {
   "cell_type": "code",
   "execution_count": 20,
   "id": "27a84032-b7ca-4cd9-b2fe-2fba36769922",
   "metadata": {},
   "outputs": [
    {
     "name": "stdout",
     "output_type": "stream",
     "text": [
      "[[ 7  8]\n",
      " [11 12]]\n"
     ]
    }
   ],
   "source": [
    "# Picking the elements of 2nd and 3rd rows & 3rd and 4th columns\n",
    "\n",
    "print(arr[1: , 2:])"
   ]
  },
  {
   "cell_type": "code",
   "execution_count": 21,
   "id": "f168d756-a385-4c12-8b7e-b9caf3e3c3fa",
   "metadata": {},
   "outputs": [
    {
     "name": "stdout",
     "output_type": "stream",
     "text": [
      "[[ 6  7]\n",
      " [10 11]]\n"
     ]
    }
   ],
   "source": [
    "# a:b - Picks from 'a+1'th row/column to 'b'th row/column \n",
    "\n",
    "print(arr[1:3,1:3])"
   ]
  },
  {
   "cell_type": "code",
   "execution_count": 22,
   "id": "d6766b7a-917f-4b7a-af8f-8d51836f01d3",
   "metadata": {},
   "outputs": [
    {
     "name": "stdout",
     "output_type": "stream",
     "text": [
      "[[3 4]\n",
      " [7 8]]\n",
      "[[3 4]\n",
      " [7 8]]\n"
     ]
    }
   ],
   "source": [
    "print(arr[:2 , 2:])\n",
    "\n",
    "print(arr[0:2 , 2:4])"
   ]
  },
  {
   "cell_type": "code",
   "execution_count": 23,
   "id": "35efa92e-f58e-4065-acb6-0c6eba19d48d",
   "metadata": {},
   "outputs": [
    {
     "name": "stdout",
     "output_type": "stream",
     "text": [
      "[[100   2   3   4]\n",
      " [  5   6   7   8]\n",
      " [  9  10  11  12]]\n"
     ]
    }
   ],
   "source": [
    "# Modify Array elements\n",
    "\n",
    "arr[0,0] = 100\n",
    "print(arr)"
   ]
  },
  {
   "cell_type": "code",
   "execution_count": 24,
   "id": "917144a9-f383-4061-8d54-ef0d40f1e0df",
   "metadata": {},
   "outputs": [
    {
     "name": "stdout",
     "output_type": "stream",
     "text": [
      "[[100   2   3   4]\n",
      " [100 100 100 100]\n",
      " [100 100 100 100]]\n"
     ]
    }
   ],
   "source": [
    "arr[1:] = 100\n",
    "print(arr)"
   ]
  },
  {
   "cell_type": "markdown",
   "id": "dcf9ba0a-63d8-46c4-8ad8-7f9c936fb461",
   "metadata": {},
   "source": [
    "## Statistical Concepts\n",
    "- **Aim is to have Mean of 0 and Standard Deviation of 1**\n",
    "- Mean\n",
    "- Median\n",
    "- Standard Deviation\n",
    "- Normalisation\n",
    "- Variance\n",
    "- **Mode is not present in NumPy - it is in SciPy library**"
   ]
  },
  {
   "cell_type": "code",
   "execution_count": 25,
   "id": "dcb26306-fffa-4d26-847e-107f9d673641",
   "metadata": {},
   "outputs": [
    {
     "name": "stdout",
     "output_type": "stream",
     "text": [
      "3.0\n",
      "Median:  3.0\n",
      "1.4142135623730951\n",
      "Normalized data:\n",
      " [-1.41421356 -0.70710678  0.          0.70710678  1.41421356]\n",
      "Variance:  2.0\n"
     ]
    }
   ],
   "source": [
    "data = np.array([1, 2, 3, 4, 5])\n",
    "\n",
    "# Mean\n",
    "mean = np.mean(data)\n",
    "print(mean)\n",
    "\n",
    "# Median\n",
    "median = np.median(data)\n",
    "print(\"Median: \",median)\n",
    "\n",
    "# Standard Deviation\n",
    "std_dev = np.std(data)\n",
    "print(std_dev)\n",
    "\n",
    "# Normalize the data\n",
    "normalized_data = (data - mean) / std_dev\n",
    "print(\"Normalized data:\\n\", normalized_data)\n",
    "\n",
    "# Variance\n",
    "variance = np.var(data)\n",
    "print(\"Variance: \",variance)"
   ]
  },
  {
   "cell_type": "markdown",
   "id": "42b98f83-2fa3-401f-b734-47d278741979",
   "metadata": {},
   "source": [
    "## Logical Operations - Important for using with Pandas"
   ]
  },
  {
   "cell_type": "code",
   "execution_count": 29,
   "id": "52555d7e-dc33-47e7-9577-d323b6345fd1",
   "metadata": {},
   "outputs": [
    {
     "name": "stdout",
     "output_type": "stream",
     "text": [
      "[ 1  2  3  4  5  6  7  8  9 10]\n",
      "[False False False False False  True  True  True  True  True]\n",
      "[ 6  7  8  9 10]\n",
      "[5 6 7 8]\n"
     ]
    }
   ],
   "source": [
    "data = np.arange(1,11,1)\n",
    "print(data)\n",
    "\n",
    "# Checks all elements and returns True / False depending on the condition\n",
    "print(data > 5)\n",
    "\n",
    "# Checks all elements and returns the elements that satisfy this condition\n",
    "print(data[data > 5])\n",
    "\n",
    "# 2 conditions\n",
    "print(data[(data >= 5) & (data <= 8)])"
   ]
  },
  {
   "cell_type": "markdown",
   "id": "c205e757-25f6-4a9b-b4e1-60f8239a4122",
   "metadata": {},
   "source": [
    "## Finding the Jupyter Notebook Path"
   ]
  },
  {
   "cell_type": "code",
   "execution_count": 32,
   "id": "65dd7d7e-3465-464d-9198-3af28531b392",
   "metadata": {},
   "outputs": [
    {
     "name": "stdout",
     "output_type": "stream",
     "text": [
      "Notebook is running from: C:\\Users\\shubh\\OneDrive\\Desktop\\CODING JULY, 2023\\data_analysis_projects\n"
     ]
    }
   ],
   "source": [
    "import os\n",
    "\n",
    "# Get current working directory\n",
    "cwd = os.getcwd()\n",
    "print(\"Notebook is running from:\", cwd)"
   ]
  },
  {
   "cell_type": "code",
   "execution_count": null,
   "id": "1ee076cf-80ae-4eaa-8dc8-602821095cd7",
   "metadata": {},
   "outputs": [],
   "source": []
  }
 ],
 "metadata": {
  "kernelspec": {
   "display_name": "Python 3 (ipykernel)",
   "language": "python",
   "name": "python3"
  },
  "language_info": {
   "codemirror_mode": {
    "name": "ipython",
    "version": 3
   },
   "file_extension": ".py",
   "mimetype": "text/x-python",
   "name": "python",
   "nbconvert_exporter": "python",
   "pygments_lexer": "ipython3",
   "version": "3.10.18"
  }
 },
 "nbformat": 4,
 "nbformat_minor": 5
}
